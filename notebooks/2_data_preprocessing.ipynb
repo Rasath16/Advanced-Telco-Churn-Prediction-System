{
 "cells": [
  {
   "cell_type": "code",
   "execution_count": 2,
   "id": "494ba361",
   "metadata": {},
   "outputs": [],
   "source": [
    "import numpy as np\n",
    "import pandas as pd\n",
    "import matplotlib.pyplot as plt\n",
    "import seaborn as sns\n",
    "\n",
    "# Preprocessing\n",
    "from sklearn.model_selection import train_test_split\n",
    "from sklearn.preprocessing import StandardScaler, OneHotEncoder, LabelEncoder\n",
    "from sklearn.compose import ColumnTransformer\n",
    "from sklearn.pipeline import Pipeline\n",
    "from imblearn.over_sampling import SMOTE\n"
   ]
  },
  {
   "cell_type": "code",
   "execution_count": 3,
   "id": "d98cdfd6",
   "metadata": {},
   "outputs": [
    {
     "name": "stdout",
     "output_type": "stream",
     "text": [
      "Original Shape: (7043, 21)\n"
     ]
    }
   ],
   "source": [
    "data = pd.read_csv(\"../data/raw/hmQOVnDvRN.csv\")\n",
    "print(\"Original Shape:\", data.shape)\n",
    "\n",
    "# Data Cleaning\n",
    "# ================================\n",
    "\n",
    "# Drop customerID\n",
    "data.drop(\"customerID\", axis=1, inplace=True)\n",
    "\n",
    "# Convert TotalCharges to numeric and handle missing\n",
    "data[\"TotalCharges\"] = pd.to_numeric(data[\"TotalCharges\"], errors='coerce')\n",
    "data[\"TotalCharges\"] = data[\"TotalCharges\"].fillna(data[\"TotalCharges\"].median())\n",
    "\n",
    "# Encode target\n",
    "data[\"Churn\"] = data[\"Churn\"].map({\"Yes\": 1, \"No\": 0})\n",
    "\n"
   ]
  },
  {
   "cell_type": "code",
   "execution_count": 4,
   "id": "03de157c",
   "metadata": {},
   "outputs": [],
   "source": [
    "# Feature Engineering\n",
    "# ================================\n",
    "\n",
    "# Tenure categories\n",
    "bins = [0, 12, 24, 48, 72]\n",
    "labels = [\"New\", \"Established\", \"Loyal\", \"Very Loyal\"]\n",
    "data[\"TenureCategory\"] = pd.cut(data[\"tenure\"], bins=bins, labels=labels, right=False)\n",
    "\n",
    "# Service adoption score (count number of services)\n",
    "service_cols = [\"PhoneService\", \"MultipleLines\", \"InternetService\", \"OnlineSecurity\", \"OnlineBackup\", \n",
    "                \"DeviceProtection\", \"TechSupport\", \"StreamingTV\", \"StreamingMovies\"]\n",
    "data[\"ServiceAdoptionScore\"] = data[service_cols].apply(lambda row: sum(val == \"Yes\" for val in row), axis=1)\n",
    "\n",
    "# Average monthly charges per service\n",
    "num_services = data[\"ServiceAdoptionScore\"].replace(0, 1)\n",
    "data[\"AvgChargesPerService\"] = data[\"MonthlyCharges\"] / num_services\n",
    "\n",
    "# Payment reliability indicators (e.g., electronic check vs auto-pay)\n",
    "data[\"IsElectronicCheck\"] = (data[\"PaymentMethod\"] == \"Electronic check\").astype(int)\n",
    "data[\"IsAutoPay\"] = data[\"PaymentMethod\"].str.contains(\"auto|bank|credit\", case=False).astype(int)\n"
   ]
  },
  {
   "cell_type": "code",
   "execution_count": 5,
   "id": "69ff24f5",
   "metadata": {},
   "outputs": [
    {
     "name": "stdout",
     "output_type": "stream",
     "text": [
      "Train shape: (5634, 24) (5634,)\n",
      "Test shape: (1409, 24) (1409,)\n"
     ]
    }
   ],
   "source": [
    "# Train-Test Split (after feature engineering)\n",
    "# ================================\n",
    "\n",
    "X = data.drop(\"Churn\", axis=1)\n",
    "y = data[\"Churn\"]\n",
    "\n",
    "X_train, X_test, y_train, y_test = train_test_split(X, y, test_size=0.2, stratify=y, random_state=42)\n",
    "\n",
    "print(\"Train shape:\", X_train.shape, y_train.shape)\n",
    "print(\"Test shape:\", X_test.shape, y_test.shape)"
   ]
  },
  {
   "cell_type": "code",
   "execution_count": 6,
   "id": "e227b144",
   "metadata": {},
   "outputs": [
    {
     "name": "stdout",
     "output_type": "stream",
     "text": [
      "After preprocessing:\n",
      "Train: (5634, 54)\n",
      "Test: (1409, 54)\n"
     ]
    }
   ],
   "source": [
    "# Encoding Strategies + Scaling\n",
    "# ================================\n",
    "\n",
    "numeric_features = X.select_dtypes(include=[\"int64\", \"float64\"]).columns\n",
    "categorical_features = X.select_dtypes(include=[\"object\", \"category\"]).columns\n",
    "\n",
    "numeric_transformer = Pipeline(steps=[\n",
    "    (\"scaler\", StandardScaler())\n",
    "])\n",
    "\n",
    "categorical_transformer = Pipeline(steps=[\n",
    "    (\"encoder\", OneHotEncoder(handle_unknown=\"ignore\"))\n",
    "])\n",
    "\n",
    "preprocessor = ColumnTransformer(\n",
    "    transformers=[\n",
    "        (\"num\", numeric_transformer, numeric_features),\n",
    "        (\"cat\", categorical_transformer, categorical_features)\n",
    "    ])\n",
    "\n",
    "# Fit transform on training data, transform test data\n",
    "X_train_processed = preprocessor.fit_transform(X_train)\n",
    "X_test_processed = preprocessor.transform(X_test)\n",
    "\n",
    "print(\"After preprocessing:\")\n",
    "print(\"Train:\", X_train_processed.shape)\n",
    "print(\"Test:\", X_test_processed.shape)"
   ]
  },
  {
   "cell_type": "code",
   "execution_count": 7,
   "id": "a92f666b",
   "metadata": {},
   "outputs": [
    {
     "name": "stdout",
     "output_type": "stream",
     "text": [
      "After SMOTE:\n",
      "Train: (8278, 54) (8278,)\n",
      "Test: (1409, 54) (1409,)\n"
     ]
    }
   ],
   "source": [
    "# Apply SMOTE (only on training data) # ================================ \n",
    "smote = SMOTE(random_state=42) \n",
    "X_train_res, y_train_res = smote.fit_resample(X_train_processed, y_train) \n",
    "print(\"After SMOTE:\") \n",
    "print(\"Train:\", X_train_res.shape, y_train_res.shape) \n",
    "print(\"Test:\", X_test_processed.shape, y_test.shape)"
   ]
  },
  {
   "cell_type": "code",
   "execution_count": 8,
   "id": "75857370",
   "metadata": {},
   "outputs": [],
   "source": [
    "# Save Preprocessed Data # ================================ \n",
    "np.savez(\"../new_artifacts/X_train_smote.npz\", X_train_res) \n",
    "np.savez(\"../new_artifacts/Y_train_smote.npz\", y_train_res) \n",
    "np.savez(\"../new_artifacts/X_test_smote.npz\", X_test_processed) \n",
    "np.savez(\"../new_artifacts/Y_test_smote.npz\", y_test)"
   ]
  },
  {
   "cell_type": "code",
   "execution_count": 10,
   "id": "4da73449",
   "metadata": {},
   "outputs": [],
   "source": [
    "\n",
    "# Get feature names from ColumnTransformer\n",
    "ohe = preprocessor.named_transformers_[\"cat\"][\"encoder\"]\n",
    "\n",
    "# Numeric + OneHotEncoded categorical names\n",
    "num_feature_names = list(numeric_features)\n",
    "cat_feature_names = list(ohe.get_feature_names_out(categorical_features))\n",
    "\n",
    "all_feature_names = num_feature_names + cat_feature_names\n",
    "np.save(\"../new_artifacts/feature_names.npy\", np.array(all_feature_names))\n",
    "\n"
   ]
  }
 ],
 "metadata": {
  "kernelspec": {
   "display_name": "bprmls",
   "language": "python",
   "name": "python3"
  },
  "language_info": {
   "codemirror_mode": {
    "name": "ipython",
    "version": 3
   },
   "file_extension": ".py",
   "mimetype": "text/x-python",
   "name": "python",
   "nbconvert_exporter": "python",
   "pygments_lexer": "ipython3",
   "version": "3.12.11"
  }
 },
 "nbformat": 4,
 "nbformat_minor": 5
}
