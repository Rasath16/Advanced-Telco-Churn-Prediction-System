{
 "cells": [
  {
   "cell_type": "code",
   "execution_count": 12,
   "id": "66906719",
   "metadata": {},
   "outputs": [],
   "source": [
    "import numpy as np\n",
    "import pandas as pd\n",
    "import seaborn as sns\n",
    "import matplotlib.pyplot as plt\n",
    "from sklearn.linear_model import LogisticRegression\n",
    "from sklearn.tree import DecisionTreeClassifier\n",
    "from sklearn.metrics import accuracy_score, precision_score, recall_score, f1_score, confusion_matrix\n",
    "from sklearn.metrics import accuracy_score, f1_score, recall_score, precision_score, roc_auc_score\n",
    "import joblib\n",
    "\n",
    "from sklearn.model_selection import StratifiedKFold\n"
   ]
  },
  {
   "cell_type": "code",
   "execution_count": 17,
   "id": "c101cf4d",
   "metadata": {},
   "outputs": [],
   "source": [
    "X_train = np.load('../notebooks/new_artifacts/X_train_new.npz', allow_pickle=True)['arr_0']\n",
    "Y_train = np.load('../notebooks/new_artifacts/Y_train_new.npz', allow_pickle=True)['arr_0']\n",
    "X_test  = np.load('../notebooks/new_artifacts/X_test_new.npz',  allow_pickle=True)['arr_0']\n",
    "Y_test  = np.load('../notebooks/new_artifacts/Y_test_new.npz',  allow_pickle=True)['arr_0']\n"
   ]
  },
  {
   "cell_type": "markdown",
   "id": "96647ccf",
   "metadata": {},
   "source": [
    "### 1. Logistic Regression"
   ]
  },
  {
   "cell_type": "code",
   "execution_count": 21,
   "id": "044d1e52",
   "metadata": {},
   "outputs": [
    {
     "name": "stdout",
     "output_type": "stream",
     "text": [
      "BASELINE MODELS\n",
      "==============================\n",
      "Training Logistic Regression...\n",
      "Logistic Regression AUC: 0.836\n"
     ]
    }
   ],
   "source": [
    "print(\"BASELINE MODELS\")\n",
    "print(\"=\" * 30)\n",
    "\n",
    "# Logistic Regression\n",
    "print(\"Training Logistic Regression...\")\n",
    "lr_model = LogisticRegression(random_state=42, max_iter=1000)\n",
    "lr_model.fit(X_train, Y_train)\n",
    "\n",
    "# Predictions\n",
    "lr_pred = lr_model.predict(X_test)\n",
    "lr_pred_proba = lr_model.predict_proba(X_test)[:, 1]\n",
    "\n",
    "# Performance\n",
    "lr_auc = roc_auc_score(Y_test, lr_pred_proba)\n",
    "print(f\"Logistic Regression AUC: {lr_auc:.3f}\")\n",
    "\n",
    "# Store results\n",
    "baseline_results = {\n",
    "    'Logistic Regression': {\n",
    "        'model': lr_model,\n",
    "        'predictions': lr_pred,\n",
    "        'probabilities': lr_pred_proba,\n",
    "        'auc': lr_auc\n",
    "    }\n",
    "}"
   ]
  },
  {
   "cell_type": "markdown",
   "id": "617e1233",
   "metadata": {},
   "source": [
    "### 2. Decison Tree Classifier"
   ]
  },
  {
   "cell_type": "code",
   "execution_count": 22,
   "id": "9cda1bb3",
   "metadata": {},
   "outputs": [
    {
     "name": "stdout",
     "output_type": "stream",
     "text": [
      "Training Decision Tree...\n",
      "Decision Tree AUC: 0.742\n",
      "✅ Baseline models trained!\n"
     ]
    }
   ],
   "source": [
    "# Decision Tree\n",
    "print(\"Training Decision Tree...\")\n",
    "dt_model = DecisionTreeClassifier(random_state=42, max_depth=10)\n",
    "dt_model.fit(X_train, Y_train)\n",
    "\n",
    "# Predictions\n",
    "dt_pred = dt_model.predict(X_test)\n",
    "dt_pred_proba = dt_model.predict_proba(X_test)[:, 1]\n",
    "\n",
    "# Performance\n",
    "dt_auc = roc_auc_score(Y_test, dt_pred_proba)\n",
    "print(f\"Decision Tree AUC: {dt_auc:.3f}\")\n",
    "\n",
    "# Store results\n",
    "baseline_results['Decision Tree'] = {\n",
    "    'model': dt_model,\n",
    "    'predictions': dt_pred,\n",
    "    'probabilities': dt_pred_proba,\n",
    "    'auc': dt_auc\n",
    "}\n",
    "\n",
    "print(\"✅ Baseline models trained!\")"
   ]
  },
  {
   "cell_type": "markdown",
   "id": "26fe13dd",
   "metadata": {},
   "source": [
    "### K-Fold Validation"
   ]
  },
  {
   "cell_type": "code",
   "execution_count": 20,
   "id": "c39adde5",
   "metadata": {},
   "outputs": [
    {
     "name": "stdout",
     "output_type": "stream",
     "text": [
      "Logistic Regression Validation Metrics: \n",
      "\n"
     ]
    },
    {
     "name": "stderr",
     "output_type": "stream",
     "text": [
      "c:\\Users\\DELL\\anaconda3\\envs\\bprmls\\Lib\\site-packages\\sklearn\\linear_model\\_logistic.py:465: ConvergenceWarning: lbfgs failed to converge (status=1):\n",
      "STOP: TOTAL NO. OF ITERATIONS REACHED LIMIT.\n",
      "\n",
      "Increase the number of iterations (max_iter) or scale the data as shown in:\n",
      "    https://scikit-learn.org/stable/modules/preprocessing.html\n",
      "Please also refer to the documentation for alternative solver options:\n",
      "    https://scikit-learn.org/stable/modules/linear_model.html#logistic-regression\n",
      "  n_iter_i = _check_optimize_result(\n"
     ]
    },
    {
     "name": "stdout",
     "output_type": "stream",
     "text": [
      "Accuracy : 0.9297\n",
      "F1-Score : 0.9377\n",
      "Recall   : 0.9420\n",
      "Precision: 0.9336\n",
      "ROC-AUC  : 0.9806\n",
      "\n",
      "Decision Tree Classifier Validation: \n",
      "\n",
      "Accuracy : 0.9304\n",
      "F1-Score : 0.9384\n",
      "Recall   : 0.9423\n",
      "Precision: 0.9345\n",
      "ROC-AUC  : 0.9287\n"
     ]
    }
   ],
   "source": [
    "kfold = StratifiedKFold(n_splits=5, shuffle=True, random_state=42)\n",
    "\n",
    "def kfold_evaluation(model, X, Y):\n",
    "    acc, f1s, recalls, precisions, roc_aucs = [], [], [], [], []\n",
    "    \n",
    "    for train_idx, val_idx in kfold.split(X, Y):\n",
    "        X_tr, X_val = X[train_idx], X[val_idx]   # NumPy indexing\n",
    "        Y_tr, Y_val = Y[train_idx], Y[val_idx]\n",
    "        \n",
    "        model.fit(X_tr, Y_tr)\n",
    "        Y_pred = model.predict(X_val)\n",
    "        acc.append(accuracy_score(Y_val, Y_pred))\n",
    "        f1s.append(f1_score(Y_val, Y_pred))\n",
    "        recalls.append(recall_score(Y_val, Y_pred))\n",
    "        precisions.append(precision_score(Y_val, Y_pred))\n",
    "        if hasattr(model, \"predict_proba\"):\n",
    "            probs = model.predict_proba(X_val)[:,1]\n",
    "            roc_aucs.append(roc_auc_score(Y_val, probs))\n",
    "    \n",
    "    print(f\"Accuracy : {np.mean(acc):.4f}\")\n",
    "    print(f\"F1-Score : {np.mean(f1s):.4f}\")\n",
    "    print(f\"Recall   : {np.mean(recalls):.4f}\")\n",
    "    print(f\"Precision: {np.mean(precisions):.4f}\")\n",
    "    if roc_aucs:\n",
    "        print(f\"ROC-AUC  : {np.mean(roc_aucs):.4f}\")\n",
    "\n",
    "print(\"Logistic Regression Validation Metrics: \\n\")\n",
    "lr = LogisticRegression(random_state=42)\n",
    "kfold_evaluation(lr, X_train, Y_train)\n",
    "\n",
    "print(\"\\nDecision Tree Classifier Validation: \\n\")\n",
    "dt = DecisionTreeClassifier(random_state=42)\n",
    "kfold_evaluation(dt, X_train, Y_train)\n",
    "\n"
   ]
  }
 ],
 "metadata": {
  "kernelspec": {
   "display_name": "bprmls",
   "language": "python",
   "name": "python3"
  },
  "language_info": {
   "codemirror_mode": {
    "name": "ipython",
    "version": 3
   },
   "file_extension": ".py",
   "mimetype": "text/x-python",
   "name": "python",
   "nbconvert_exporter": "python",
   "pygments_lexer": "ipython3",
   "version": "3.12.11"
  }
 },
 "nbformat": 4,
 "nbformat_minor": 5
}
