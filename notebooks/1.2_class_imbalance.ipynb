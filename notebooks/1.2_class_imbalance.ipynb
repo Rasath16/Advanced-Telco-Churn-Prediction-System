{
 "cells": [
  {
   "cell_type": "code",
   "execution_count": 16,
   "id": "8a6493ff",
   "metadata": {},
   "outputs": [],
   "source": [
    "import matplotlib.pyplot as plt\n",
    "import seaborn as sns\n",
    "import pandas as pd\n",
    "import numpy as np"
   ]
  },
  {
   "cell_type": "code",
   "execution_count": 17,
   "id": "3f21050a",
   "metadata": {},
   "outputs": [
    {
     "data": {
      "text/html": [
       "<div>\n",
       "<style scoped>\n",
       "    .dataframe tbody tr th:only-of-type {\n",
       "        vertical-align: middle;\n",
       "    }\n",
       "\n",
       "    .dataframe tbody tr th {\n",
       "        vertical-align: top;\n",
       "    }\n",
       "\n",
       "    .dataframe thead th {\n",
       "        text-align: right;\n",
       "    }\n",
       "</style>\n",
       "<table border=\"1\" class=\"dataframe\">\n",
       "  <thead>\n",
       "    <tr style=\"text-align: right;\">\n",
       "      <th></th>\n",
       "      <th>gender</th>\n",
       "      <th>SeniorCitizen</th>\n",
       "      <th>Partner</th>\n",
       "      <th>Dependents</th>\n",
       "      <th>tenure</th>\n",
       "      <th>PhoneService</th>\n",
       "      <th>MultipleLines</th>\n",
       "      <th>InternetService</th>\n",
       "      <th>OnlineSecurity</th>\n",
       "      <th>OnlineBackup</th>\n",
       "      <th>DeviceProtection</th>\n",
       "      <th>TechSupport</th>\n",
       "      <th>StreamingTV</th>\n",
       "      <th>StreamingMovies</th>\n",
       "      <th>Contract</th>\n",
       "      <th>PaperlessBilling</th>\n",
       "      <th>PaymentMethod</th>\n",
       "      <th>MonthlyCharges</th>\n",
       "      <th>TotalCharges</th>\n",
       "      <th>Churn</th>\n",
       "    </tr>\n",
       "  </thead>\n",
       "  <tbody>\n",
       "    <tr>\n",
       "      <th>0</th>\n",
       "      <td>Female</td>\n",
       "      <td>0</td>\n",
       "      <td>Yes</td>\n",
       "      <td>No</td>\n",
       "      <td>1</td>\n",
       "      <td>No</td>\n",
       "      <td>No phone service</td>\n",
       "      <td>DSL</td>\n",
       "      <td>No</td>\n",
       "      <td>Yes</td>\n",
       "      <td>No</td>\n",
       "      <td>No</td>\n",
       "      <td>No</td>\n",
       "      <td>No</td>\n",
       "      <td>Month-to-month</td>\n",
       "      <td>Yes</td>\n",
       "      <td>Electronic check</td>\n",
       "      <td>29.85</td>\n",
       "      <td>29.85</td>\n",
       "      <td>No</td>\n",
       "    </tr>\n",
       "    <tr>\n",
       "      <th>1</th>\n",
       "      <td>Male</td>\n",
       "      <td>0</td>\n",
       "      <td>No</td>\n",
       "      <td>No</td>\n",
       "      <td>34</td>\n",
       "      <td>Yes</td>\n",
       "      <td>No</td>\n",
       "      <td>DSL</td>\n",
       "      <td>Yes</td>\n",
       "      <td>No</td>\n",
       "      <td>Yes</td>\n",
       "      <td>No</td>\n",
       "      <td>No</td>\n",
       "      <td>No</td>\n",
       "      <td>One year</td>\n",
       "      <td>No</td>\n",
       "      <td>Mailed check</td>\n",
       "      <td>56.95</td>\n",
       "      <td>1889.5</td>\n",
       "      <td>No</td>\n",
       "    </tr>\n",
       "    <tr>\n",
       "      <th>2</th>\n",
       "      <td>Male</td>\n",
       "      <td>0</td>\n",
       "      <td>No</td>\n",
       "      <td>No</td>\n",
       "      <td>2</td>\n",
       "      <td>Yes</td>\n",
       "      <td>No</td>\n",
       "      <td>DSL</td>\n",
       "      <td>Yes</td>\n",
       "      <td>Yes</td>\n",
       "      <td>No</td>\n",
       "      <td>No</td>\n",
       "      <td>No</td>\n",
       "      <td>No</td>\n",
       "      <td>Month-to-month</td>\n",
       "      <td>Yes</td>\n",
       "      <td>Mailed check</td>\n",
       "      <td>53.85</td>\n",
       "      <td>108.15</td>\n",
       "      <td>Yes</td>\n",
       "    </tr>\n",
       "    <tr>\n",
       "      <th>3</th>\n",
       "      <td>Male</td>\n",
       "      <td>0</td>\n",
       "      <td>No</td>\n",
       "      <td>No</td>\n",
       "      <td>45</td>\n",
       "      <td>No</td>\n",
       "      <td>No phone service</td>\n",
       "      <td>DSL</td>\n",
       "      <td>Yes</td>\n",
       "      <td>No</td>\n",
       "      <td>Yes</td>\n",
       "      <td>Yes</td>\n",
       "      <td>No</td>\n",
       "      <td>No</td>\n",
       "      <td>One year</td>\n",
       "      <td>No</td>\n",
       "      <td>Bank transfer (automatic)</td>\n",
       "      <td>42.30</td>\n",
       "      <td>1840.75</td>\n",
       "      <td>No</td>\n",
       "    </tr>\n",
       "    <tr>\n",
       "      <th>4</th>\n",
       "      <td>Female</td>\n",
       "      <td>0</td>\n",
       "      <td>No</td>\n",
       "      <td>No</td>\n",
       "      <td>2</td>\n",
       "      <td>Yes</td>\n",
       "      <td>No</td>\n",
       "      <td>Fiber optic</td>\n",
       "      <td>No</td>\n",
       "      <td>No</td>\n",
       "      <td>No</td>\n",
       "      <td>No</td>\n",
       "      <td>No</td>\n",
       "      <td>No</td>\n",
       "      <td>Month-to-month</td>\n",
       "      <td>Yes</td>\n",
       "      <td>Electronic check</td>\n",
       "      <td>70.70</td>\n",
       "      <td>151.65</td>\n",
       "      <td>Yes</td>\n",
       "    </tr>\n",
       "  </tbody>\n",
       "</table>\n",
       "</div>"
      ],
      "text/plain": [
       "   gender  SeniorCitizen Partner Dependents  tenure PhoneService  \\\n",
       "0  Female              0     Yes         No       1           No   \n",
       "1    Male              0      No         No      34          Yes   \n",
       "2    Male              0      No         No       2          Yes   \n",
       "3    Male              0      No         No      45           No   \n",
       "4  Female              0      No         No       2          Yes   \n",
       "\n",
       "      MultipleLines InternetService OnlineSecurity OnlineBackup  \\\n",
       "0  No phone service             DSL             No          Yes   \n",
       "1                No             DSL            Yes           No   \n",
       "2                No             DSL            Yes          Yes   \n",
       "3  No phone service             DSL            Yes           No   \n",
       "4                No     Fiber optic             No           No   \n",
       "\n",
       "  DeviceProtection TechSupport StreamingTV StreamingMovies        Contract  \\\n",
       "0               No          No          No              No  Month-to-month   \n",
       "1              Yes          No          No              No        One year   \n",
       "2               No          No          No              No  Month-to-month   \n",
       "3              Yes         Yes          No              No        One year   \n",
       "4               No          No          No              No  Month-to-month   \n",
       "\n",
       "  PaperlessBilling              PaymentMethod  MonthlyCharges TotalCharges  \\\n",
       "0              Yes           Electronic check           29.85        29.85   \n",
       "1               No               Mailed check           56.95       1889.5   \n",
       "2              Yes               Mailed check           53.85       108.15   \n",
       "3               No  Bank transfer (automatic)           42.30      1840.75   \n",
       "4              Yes           Electronic check           70.70       151.65   \n",
       "\n",
       "  Churn  \n",
       "0    No  \n",
       "1    No  \n",
       "2   Yes  \n",
       "3    No  \n",
       "4   Yes  "
      ]
     },
     "execution_count": 17,
     "metadata": {},
     "output_type": "execute_result"
    }
   ],
   "source": [
    "df = pd.read_csv('../data/processed/MissingValuesHandled.csv')\n",
    "df.head(5)\n"
   ]
  },
  {
   "cell_type": "markdown",
   "id": "3ec28541",
   "metadata": {},
   "source": [
    "### 1 CHURN RATE"
   ]
  },
  {
   "cell_type": "code",
   "execution_count": 19,
   "id": "366b05b4",
   "metadata": {},
   "outputs": [
    {
     "name": "stdout",
     "output_type": "stream",
     "text": [
      "Absolute Counts:\n",
      "Churn\n",
      "No     5174\n",
      "Yes    1869\n",
      "Name: count, dtype: int64\n",
      "\n",
      "Percentages:\n",
      "No: 73.46%\n",
      "Yes: 26.54%\n",
      "\n",
      "OVERALL CHURN RATE: 26.54%\n"
     ]
    }
   ],
   "source": [
    "churn_counts = df['Churn'].value_counts()\n",
    "churn_percentages = df['Churn'].value_counts(normalize=True) * 100\n",
    "\n",
    "print(\"Absolute Counts:\")\n",
    "print(churn_counts)\n",
    "print(\"\\nPercentages:\")\n",
    "for category, percentage in churn_percentages.items():\n",
    "    print(f\"{category}: {percentage:.2f}%\")\n",
    "\n",
    "churn_rate = churn_percentages['Yes']\n",
    "print(f\"\\nOVERALL CHURN RATE: {churn_rate:.2f}%\")"
   ]
  },
  {
   "cell_type": "markdown",
   "id": "fe58d93c",
   "metadata": {},
   "source": [
    "### 2. IMBALANCE RATIO"
   ]
  },
  {
   "cell_type": "code",
   "execution_count": 20,
   "id": "98fbc416",
   "metadata": {},
   "outputs": [
    {
     "name": "stdout",
     "output_type": "stream",
     "text": [
      "Majority Class (No Churn): 5,174 customers\n",
      "Minority Class (Churn): 1,869 customers\n",
      "Imbalance Ratio: 2.77:1\n"
     ]
    }
   ],
   "source": [
    "majority_class = churn_counts.max()\n",
    "minority_class = churn_counts.min()\n",
    "imbalance_ratio = majority_class / minority_class\n",
    "\n",
    "print(f\"Majority Class (No Churn): {majority_class:,} customers\")\n",
    "print(f\"Minority Class (Churn): {minority_class:,} customers\")\n",
    "print(f\"Imbalance Ratio: {imbalance_ratio:.2f}:1\")"
   ]
  },
  {
   "cell_type": "code",
   "execution_count": 21,
   "id": "b3e99426",
   "metadata": {},
   "outputs": [
    {
     "name": "stdout",
     "output_type": "stream",
     "text": [
      "Dataset Classification: Slightly Imbalanced\n"
     ]
    }
   ],
   "source": [
    "if imbalance_ratio < 1.5:\n",
    "    balance_level = \"Balanced\"\n",
    "elif imbalance_ratio < 3:\n",
    "    balance_level = \"Slightly Imbalanced\"\n",
    "elif imbalance_ratio < 10:\n",
    "    balance_level = \"Moderately Imbalanced\"\n",
    "else:\n",
    "    balance_level = \"Severely Imbalanced\"\n",
    "\n",
    "\n",
    "print(f\"Dataset Classification: {balance_level}\")"
   ]
  },
  {
   "cell_type": "code",
   "execution_count": 22,
   "id": "75c0f8b6",
   "metadata": {},
   "outputs": [
    {
     "data": {
      "image/png": "[encoded data removed]",
      "text/plain": [
       "<Figure size 1800x500 with 3 Axes>"
      ]
     },
     "metadata": {},
     "output_type": "display_data"
    }
   ],
   "source": [
    "fig, axes = plt.subplots(1, 3, figsize=(18, 5))\n",
    "\n",
    "# Bar plot\n",
    "churn_counts.plot(kind='bar', ax=axes[0], color=['skyblue', 'salmon'], rot=0)\n",
    "axes[0].set_title('Churn Distribution - Count', fontweight='bold', fontsize=14)\n",
    "axes[0].set_xlabel('Churn Status')\n",
    "axes[0].set_ylabel('Number of Customers')\n",
    "for i, v in enumerate(churn_counts.values):\n",
    "    axes[0].text(i, v + 50, f'{v:,}', ha='center', va='bottom', fontweight='bold')\n",
    "\n",
    "# Pie chart\n",
    "churn_counts.plot(kind='pie', ax=axes[1], autopct='%1.1f%%', \n",
    "                  colors=['lightblue', 'lightcoral'], startangle=90)\n",
    "axes[1].set_title('Churn Distribution - Percentage', fontweight='bold', fontsize=14)\n",
    "axes[1].set_ylabel('')\n",
    "\n",
    "# Donut chart for better visualization\n",
    "wedges, texts, autotexts = axes[2].pie(churn_counts.values, labels=churn_counts.index,\n",
    "                                       autopct='%1.1f%%', colors=['lightblue', 'lightcoral'],\n",
    "                                       startangle=90, pctdistance=0.85)\n",
    "centre_circle = plt.Circle((0,0), 0.70, fc='white')\n",
    "axes[2].add_artist(centre_circle)\n",
    "axes[2].set_title('Churn Distribution - Donut Chart', fontweight='bold', fontsize=14)\n",
    "\n",
    "plt.tight_layout()\n",
    "plt.show()\n"
   ]
  },
  {
   "cell_type": "markdown",
   "id": "421b4cb0",
   "metadata": {},
   "source": [
    "### 3. BUSINESS IMPACT ANALYSIS"
   ]
  },
  {
   "cell_type": "code",
   "execution_count": null,
   "id": "ecd1de76",
   "metadata": {},
   "outputs": [
    {
     "name": "stdout",
     "output_type": "stream",
     "text": [
      "Total Customer Base: 7,043\n",
      "Customers at Risk (Churned): 1,869\n",
      "Retained Customers: 5,174\n",
      "\n",
      "💰 FINANCIAL IMPACT:\n",
      "Average Monthly Charge: $64.76\n",
      "Estimated Annual Revenue Loss: $1,452,475.24\n",
      "Revenue Loss per Churned Customer (Annual): $777.14\n"
     ]
    }
   ],
   "source": [
    "total_customers = len(df)\n",
    "churned_customers = churn_counts['Yes']\n",
    "retained_customers = churn_counts['No']\n",
    "\n",
    "print(f\"Total Customer Base: {total_customers:,}\")\n",
    "print(f\"Customers at Risk (Churned): {churned_customers:,}\")\n",
    "print(f\"Retained Customers: {retained_customers:,}\")\n",
    "\n",
    "avg_monthly_charge = df['MonthlyCharges'].mean()\n",
    "annual_revenue_loss = churned_customers * avg_monthly_charge * 12\n",
    "\n",
    "print(f\"\\n💰 FINANCIAL IMPACT:\")\n",
    "print(f\"Average Monthly Charge: ${avg_monthly_charge:.2f}\")\n",
    "print(f\"Estimated Annual Revenue Loss: ${annual_revenue_loss:,.2f}\")\n",
    "print(f\"Revenue Loss per Churned Customer (Annual): ${avg_monthly_charge * 12:.2f}\")"
   ]
  },
  {
   "cell_type": "markdown",
   "id": "c76bcbd3",
   "metadata": {},
   "source": [
    "### 4. MODEL EVALUATION IMPLICATIONS"
   ]
  },
  {
   "cell_type": "code",
   "execution_count": 27,
   "id": "a0507d81",
   "metadata": {},
   "outputs": [
    {
     "name": "stdout",
     "output_type": "stream",
     "text": [
      "Class Imbalance Impact on Model Performance:\n",
      "Accuracy Bias: A naive model predicting 'No Churn' for all customers\n",
      "would achieve 73.5% accuracy\n",
      "Risk: Model may be biased toward majority class (No Churn)\n",
      "Recommended Metrics: Precision, Recall, F1-Score, AUC-ROC\n",
      "Sampling Strategies: Consider SMOTE, undersampling, or class weights\n"
     ]
    }
   ],
   "source": [
    "print(\"Class Imbalance Impact on Model Performance:\")\n",
    "print(f\"Accuracy Bias: A naive model predicting 'No Churn' for all customers\")\n",
    "print(f\"would achieve {(retained_customers/total_customers)*100:.1f}% accuracy\")\n",
    "print(f\"Risk: Model may be biased toward majority class (No Churn)\")\n",
    "print(f\"Recommended Metrics: Precision, Recall, F1-Score, AUC-ROC\")\n",
    "print(f\"Sampling Strategies: Consider SMOTE, undersampling, or class weights\")"
   ]
  },
  {
   "cell_type": "code",
   "execution_count": 28,
   "id": "5ed3ab45",
   "metadata": {},
   "outputs": [
    {
     "name": "stdout",
     "output_type": "stream",
     "text": [
      "Churn Rate Priority Level: HIGH - Immediate attention required\n"
     ]
    }
   ],
   "source": [
    "\n",
    "if churn_rate > 20:\n",
    "    priority = \"HIGH - Immediate attention required\"\n",
    "elif churn_rate > 10:\n",
    "    priority = \"MEDIUM - Proactive retention needed\"\n",
    "else:\n",
    "    priority = \"LOW - Monitor and maintain\"\n",
    "    \n",
    "print(f\"Churn Rate Priority Level: {priority}\")"
   ]
  },
  {
   "cell_type": "markdown",
   "id": "fa5cd0db",
   "metadata": {},
   "source": [
    "### 5. SEGMENTED ANALYSIS"
   ]
  },
  {
   "cell_type": "code",
   "execution_count": 29,
   "id": "cb64b797",
   "metadata": {},
   "outputs": [
    {
     "name": "stdout",
     "output_type": "stream",
     "text": [
      "\n",
      "Contract - Churn Rates:\n",
      "  Month-to-month: 42.7%\n",
      "  One year: 11.3%\n",
      "  Two year: 2.8%\n",
      "\n",
      "PaymentMethod - Churn Rates:\n",
      "  Electronic check: 45.3%\n",
      "  Mailed check: 19.1%\n",
      "  Bank transfer (automatic): 16.7%\n",
      "  Credit card (automatic): 15.2%\n",
      "\n",
      "InternetService - Churn Rates:\n",
      "  Fiber optic: 41.9%\n",
      "  DSL: 19.0%\n",
      "  No: 7.4%\n"
     ]
    }
   ],
   "source": [
    "segments_to_analyze = ['Contract', 'PaymentMethod', 'InternetService']\n",
    "\n",
    "for segment in segments_to_analyze:\n",
    "    if segment in df.columns:\n",
    "        segment_churn = df.groupby(segment)['Churn'].apply(\n",
    "            lambda x: (x == 'Yes').sum() / len(x) * 100\n",
    "        ).sort_values(ascending=False)\n",
    "        \n",
    "        print(f\"\\n{segment} - Churn Rates:\")\n",
    "        for category, rate in segment_churn.items():\n",
    "            print(f\"  {category}: {rate:.1f}%\")\n"
   ]
  }
 ],
 "metadata": {
  "kernelspec": {
   "display_name": "bprmls",
   "language": "python",
   "name": "python3"
  },
  "language_info": {
   "codemirror_mode": {
    "name": "ipython",
    "version": 3
   },
   "file_extension": ".py",
   "mimetype": "text/x-python",
   "name": "python",
   "nbconvert_exporter": "python",
   "pygments_lexer": "ipython3",
   "version": "3.12.11"
  }
 },
 "nbformat": 4,
 "nbformat_minor": 5
}
